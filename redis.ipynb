{
 "cells": [
  {
   "cell_type": "code",
   "execution_count": 73,
   "metadata": {},
   "outputs": [],
   "source": [
    "import redis\n",
    "import string\n",
    "import requests\n",
    "\n",
    "url = \"https://www.sec.gov/files/EDGAR_LogFileData_thru_Jun2017.html\"\n",
    "file = requests.get(url).text.split('\\r\\n')\n",
    "lst = [i.strip() for i in file][8:-2]\n",
    "lst.sort()"
   ]
  },
  {
   "cell_type": "markdown",
   "metadata": {},
   "source": [
    "Start the container running redis"
   ]
  },
  {
   "cell_type": "code",
   "execution_count": 83,
   "metadata": {},
   "outputs": [
    {
     "name": "stdout",
     "output_type": "stream",
     "text": [
      "899ac8a8cf1b800e8fd2b49075bbf842fc428d3201b7de85cf448ca86c3b28df\n"
     ]
    }
   ],
   "source": [
    "!docker run --name first-redis -p 6379:6379 -d redis"
   ]
  },
  {
   "cell_type": "code",
   "execution_count": 84,
   "metadata": {},
   "outputs": [],
   "source": [
    "r = redis.Redis(host='localhost', port=6379)"
   ]
  },
  {
   "cell_type": "code",
   "execution_count": 85,
   "metadata": {},
   "outputs": [
    {
     "name": "stdout",
     "output_type": "stream",
     "text": [
      "['www.sec.gov/dera/data/Public-EDGAR-log-file-data/2003/Qtr1/log20030108.zip', 'www.sec.gov/dera/data/Public-EDGAR-log-file-data/2003/Qtr1/log20030102.zip', 'www.sec.gov/dera/data/Public-EDGAR-log-file-data/2003/Qtr1/log20030103.zip', 'www.sec.gov/dera/data/Public-EDGAR-log-file-data/2003/Qtr1/log20030110.zip', 'www.sec.gov/dera/data/Public-EDGAR-log-file-data/2003/Qtr1/log20030107.zip', 'www.sec.gov/dera/data/Public-EDGAR-log-file-data/2003/Qtr1/log20030106.zip', 'www.sec.gov/dera/data/Public-EDGAR-log-file-data/2003/Qtr1/log20030105.zip', 'www.sec.gov/dera/data/Public-EDGAR-log-file-data/2003/Qtr1/log20030104.zip', 'www.sec.gov/dera/data/Public-EDGAR-log-file-data/2003/Qtr1/log20030101.zip', 'www.sec.gov/dera/data/Public-EDGAR-log-file-data/2003/Qtr1/log20030109.zip']\n"
     ]
    }
   ],
   "source": [
    "_ = [r.sadd('urlList', i) for i in lst[:10]]\n",
    "#_ = [r.lpop('urlList').decode('utf8') for i in range(len(_))]\n",
    "_ = [i.decode('utf8') for i in r.spop('urlList', 10)]\n",
    "print(_)"
   ]
  },
  {
   "cell_type": "markdown",
   "metadata": {},
   "source": [
    "Stop and delete the container running redis"
   ]
  },
  {
   "cell_type": "code",
   "execution_count": 86,
   "metadata": {},
   "outputs": [
    {
     "name": "stdout",
     "output_type": "stream",
     "text": [
      "first-redis\n",
      "first-redis\n"
     ]
    }
   ],
   "source": [
    "!docker stop first-redis\n",
    "!docker rm first-redis"
   ]
  },
  {
   "cell_type": "code",
   "execution_count": null,
   "metadata": {},
   "outputs": [],
   "source": []
  }
 ],
 "metadata": {
  "kernelspec": {
   "display_name": "Python 3",
   "language": "python",
   "name": "python3"
  },
  "language_info": {
   "codemirror_mode": {
    "name": "ipython",
    "version": 3
   },
   "file_extension": ".py",
   "mimetype": "text/x-python",
   "name": "python",
   "nbconvert_exporter": "python",
   "pygments_lexer": "ipython3",
   "version": "3.8.5"
  }
 },
 "nbformat": 4,
 "nbformat_minor": 4
}
